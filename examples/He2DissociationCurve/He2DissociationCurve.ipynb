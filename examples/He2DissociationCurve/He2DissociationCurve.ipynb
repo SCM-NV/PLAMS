{
 "cells": [
  {
   "cell_type": "markdown",
   "id": "ad502be7",
   "metadata": {},
   "source": [
    "## Initial Imports"
   ]
  },
  {
   "cell_type": "code",
   "execution_count": 1,
   "id": "5bc0147f",
   "metadata": {},
   "outputs": [],
   "source": [
    "import numpy as np\n",
    "from scm.plams import Settings, Molecule, Atom, AMSJob"
   ]
  },
  {
   "cell_type": "markdown",
   "id": "0a011a0f",
   "metadata": {},
   "source": [
    "## Setup Dimer\n",
    "Create Helium atoms and an array of interatomic distances at which to run calculation."
   ]
  },
  {
   "cell_type": "code",
   "execution_count": 2,
   "id": "7c474c79",
   "metadata": {},
   "outputs": [],
   "source": [
    "# type of atoms\n",
    "atom1 = \"He\"\n",
    "atom2 = \"He\""
   ]
  },
  {
   "cell_type": "code",
   "execution_count": 3,
   "id": "082977f9",
   "metadata": {},
   "outputs": [],
   "source": [
    "# interatomic distance values\n",
    "dmin = 2.2\n",
    "dmax = 4.2\n",
    "step = 0.2"
   ]
  },
  {
   "cell_type": "code",
   "execution_count": 4,
   "id": "705e8f43",
   "metadata": {},
   "outputs": [],
   "source": [
    "# create a list with interatomic distances\n",
    "distances = np.arange(dmin, dmax, step)"
   ]
  },
  {
   "cell_type": "markdown",
   "id": "538f4e7f",
   "metadata": {},
   "source": [
    "## Calculation Settings\n",
    "\n",
    "The calculation settins are stored in a `Settings` object."
   ]
  },
  {
   "cell_type": "code",
   "execution_count": 5,
   "id": "c2446238",
   "metadata": {},
   "outputs": [],
   "source": [
    "# calculation parameters (single point, TZP/PBE+GrimmeD3)\n",
    "sett = Settings()\n",
    "sett.input.ams.task = \"SinglePoint\"\n",
    "sett.input.adf.basis.type = \"TZP\"\n",
    "sett.input.adf.xc.gga = \"PBE\"\n",
    "sett.input.adf.xc.dispersion = \"Grimme3\""
   ]
  },
  {
   "cell_type": "markdown",
   "id": "3bb91ad5",
   "metadata": {},
   "source": [
    "## Create and Run Jobs\n",
    "\n",
    "For each interatomic distance, create a Helium dimer molecule with the required geometry then the single point energy calculation job. Run the job and extract the energy. "
   ]
  },
  {
   "cell_type": "code",
   "execution_count": 6,
   "id": "fe1d97ad",
   "metadata": {},
   "outputs": [
    {
     "name": "stdout",
     "output_type": "stream",
     "text": [
      "[13.08|11:10:14] JOB dist_2.20 STARTED\n",
      "[13.08|11:10:14] JOB dist_2.20 RUNNING\n",
      "[13.08|11:10:16] JOB dist_2.20 FINISHED\n",
      "[13.08|11:10:16] JOB dist_2.20 SUCCESSFUL\n",
      "[13.08|11:10:16] JOB dist_2.40 STARTED\n",
      "[13.08|11:10:16] JOB dist_2.40 RUNNING\n",
      "[13.08|11:10:18] JOB dist_2.40 FINISHED\n",
      "[13.08|11:10:18] JOB dist_2.40 SUCCESSFUL\n",
      "[13.08|11:10:18] JOB dist_2.60 STARTED\n",
      "[13.08|11:10:18] JOB dist_2.60 RUNNING\n",
      "[13.08|11:10:20] JOB dist_2.60 FINISHED\n",
      "[13.08|11:10:20] JOB dist_2.60 SUCCESSFUL\n",
      "[13.08|11:10:20] JOB dist_2.80 STARTED\n",
      "[13.08|11:10:20] JOB dist_2.80 RUNNING\n",
      "[13.08|11:10:22] JOB dist_2.80 FINISHED\n",
      "[13.08|11:10:22] JOB dist_2.80 SUCCESSFUL\n",
      "[13.08|11:10:22] JOB dist_3.00 STARTED\n",
      "[13.08|11:10:22] JOB dist_3.00 RUNNING\n",
      "[13.08|11:10:24] JOB dist_3.00 FINISHED\n",
      "[13.08|11:10:24] JOB dist_3.00 SUCCESSFUL\n",
      "[13.08|11:10:24] JOB dist_3.20 STARTED\n",
      "[13.08|11:10:24] JOB dist_3.20 RUNNING\n",
      "[13.08|11:10:25] JOB dist_3.20 FINISHED\n",
      "[13.08|11:10:25] JOB dist_3.20 SUCCESSFUL\n",
      "[13.08|11:10:25] JOB dist_3.40 STARTED\n",
      "[13.08|11:10:25] JOB dist_3.40 RUNNING\n",
      "[13.08|11:10:27] JOB dist_3.40 FINISHED\n",
      "[13.08|11:10:27] JOB dist_3.40 SUCCESSFUL\n",
      "[13.08|11:10:27] JOB dist_3.60 STARTED\n",
      "[13.08|11:10:27] JOB dist_3.60 RUNNING\n",
      "[13.08|11:10:29] JOB dist_3.60 FINISHED\n",
      "[13.08|11:10:29] JOB dist_3.60 SUCCESSFUL\n",
      "[13.08|11:10:29] JOB dist_3.80 STARTED\n",
      "[13.08|11:10:29] JOB dist_3.80 RUNNING\n",
      "[13.08|11:10:31] JOB dist_3.80 FINISHED\n",
      "[13.08|11:10:31] JOB dist_3.80 SUCCESSFUL\n",
      "[13.08|11:10:31] JOB dist_4.00 STARTED\n",
      "[13.08|11:10:31] JOB dist_4.00 RUNNING\n",
      "[13.08|11:10:32] JOB dist_4.00 FINISHED\n",
      "[13.08|11:10:32] JOB dist_4.00 SUCCESSFUL\n"
     ]
    }
   ],
   "source": [
    "energies = []\n",
    "for d in distances:\n",
    "    mol = Molecule()\n",
    "    mol.add_atom(Atom(symbol=atom1, coords=(0.0, 0.0, 0.0)))\n",
    "    mol.add_atom(Atom(symbol=atom2, coords=(d, 0.0, 0.0)))\n",
    "    job = AMSJob(molecule=mol, settings=sett, name=f\"dist_{d:.2f}\")\n",
    "    job.run()\n",
    "    energies.append(job.results.get_energy(unit=\"kcal/mol\"))"
   ]
  },
  {
   "cell_type": "markdown",
   "id": "60db3560",
   "metadata": {},
   "source": [
    "## Results\n",
    "\n",
    "Print table of results of the distance against the calculated energy."
   ]
  },
  {
   "cell_type": "code",
   "execution_count": 7,
   "id": "06703c53",
   "metadata": {},
   "outputs": [
    {
     "name": "stdout",
     "output_type": "stream",
     "text": [
      "== Results ==\n",
      "d[A]    E[kcal/mol]\n",
      "2.20    0.230\n",
      "2.40    -0.054\n",
      "2.60    -0.127\n",
      "2.80    -0.122\n",
      "3.00    -0.094\n",
      "3.20    -0.066\n",
      "3.40    -0.045\n",
      "3.60    -0.030\n",
      "3.80    -0.020\n",
      "4.00    -0.013\n"
     ]
    }
   ],
   "source": [
    "print(\"== Results ==\")\n",
    "print(\"d[A]    E[kcal/mol]\")\n",
    "for d, e in zip(distances, energies):\n",
    "    print(f\"{d:.2f}    {e:.3f}\")"
   ]
  }
 ],
 "metadata": {
  "jupytext": {
   "cell_metadata_filter": "-all",
   "executable": "/usr/bin/env plams",
   "main_language": "python",
   "notebook_metadata_filter": "-all"
  },
  "kernelspec": {
   "display_name": "Python 3 (ipykernel)",
   "language": "python",
   "name": "python3"
  },
  "language_info": {
   "codemirror_mode": {
    "name": "ipython",
    "version": 3
   },
   "file_extension": ".py",
   "mimetype": "text/x-python",
   "name": "python",
   "nbconvert_exporter": "python",
   "pygments_lexer": "ipython3",
   "version": "3.8.16"
  }
 },
 "nbformat": 4,
 "nbformat_minor": 5
}
