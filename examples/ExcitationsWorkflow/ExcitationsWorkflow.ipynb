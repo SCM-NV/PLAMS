{
 "cells": [
  {
   "cell_type": "markdown",
   "id": "08edae93",
   "metadata": {},
   "source": [
    "## Initial Imports"
   ]
  },
  {
   "cell_type": "code",
   "execution_count": 1,
   "id": "396e9b99",
   "metadata": {},
   "outputs": [],
   "source": [
    "from scm.plams import AMSResults, Units, add_to_class, Settings, read_molecules, AMSJob"
   ]
  },
  {
   "cell_type": "markdown",
   "id": "8a63d1ac",
   "metadata": {
    "lines_to_next_cell": 2
   },
   "source": [
    "## Helper Functions\n",
    "Set up a couple of useful functions for extracting results."
   ]
  },
  {
   "cell_type": "code",
   "execution_count": 2,
   "id": "c94154ee",
   "metadata": {},
   "outputs": [],
   "source": [
    "@add_to_class(AMSResults)\n",
    "def get_excitations(results):\n",
    "    \"\"\"Returns excitation energies (in eV) and oscillator strenghts (in Debye).\"\"\"\n",
    "    if results.job.ok():\n",
    "        exci_energies_au = results.readrkf(\"Excitations SS A\", \"excenergies\", file=\"engine\")\n",
    "        oscillator_str_au = results.readrkf(\"Excitations SS A\", \"oscillator strengths\", file=\"engine\")\n",
    "        # The results are stored in atomic units. Convert them to more convenient units:\n",
    "        exci_energies = Units.convert(exci_energies_au, \"au\", \"eV\")\n",
    "        oscillator_str = Units.convert(oscillator_str_au, \"au\", \"Debye\")\n",
    "        return exci_energies, oscillator_str\n",
    "    else:\n",
    "        return [], []"
   ]
  },
  {
   "cell_type": "code",
   "execution_count": 3,
   "id": "812f3721",
   "metadata": {},
   "outputs": [],
   "source": [
    "@add_to_class(AMSResults)\n",
    "def has_good_excitations(results, min_energy, max_energy, oscillator_str_threshold=1e-4):\n",
    "    \"\"\"Returns True if there is at least one excitation with non-vanishing oscillator strenght\n",
    "    in the energy range [min_energy, max_energy]. Unit for min_energy and max energy: eV.\"\"\"\n",
    "    exci_energies, oscillator_str = results.get_excitations()\n",
    "    for e, o in zip(exci_energies, oscillator_str):\n",
    "        if min_energy < e < max_energy and o > oscillator_str_threshold:\n",
    "            return True\n",
    "    return False"
   ]
  },
  {
   "cell_type": "markdown",
   "id": "63520b81",
   "metadata": {},
   "source": [
    "## Calculation settings\n",
    "\n",
    "Configure the settings for the various jobs."
   ]
  },
  {
   "cell_type": "code",
   "execution_count": 4,
   "id": "911a62ad",
   "metadata": {},
   "outputs": [],
   "source": [
    "# Settings for geometry optimization with the AMS driver:\n",
    "go_sett = Settings()\n",
    "go_sett.input.ams.Task = \"GeometryOptimization\"\n",
    "go_sett.input.ams.GeometryOptimization.Convergence.Gradients = 1.0e-4"
   ]
  },
  {
   "cell_type": "code",
   "execution_count": 5,
   "id": "6f625c6b",
   "metadata": {},
   "outputs": [],
   "source": [
    "# Settings for single point calculation with the AMS driver\n",
    "sp_sett = Settings()\n",
    "sp_sett.input.ams.Task = \"SinglePoint\""
   ]
  },
  {
   "cell_type": "code",
   "execution_count": 6,
   "id": "0dcca668",
   "metadata": {},
   "outputs": [],
   "source": [
    "# Settings for the DFTB engine (including excitations)\n",
    "dftb_sett = Settings()\n",
    "dftb_sett.input.dftb.Model = \"SCC-DFTB\"\n",
    "dftb_sett.input.dftb.ResourcesDir = \"QUASINANO2015\"\n",
    "dftb_sett.input.dftb.Properties.Excitations.TDDFTB.calc = \"singlet\"\n",
    "dftb_sett.input.dftb.Properties.Excitations.TDDFTB.lowest = 10\n",
    "dftb_sett.input.dftb.Occupation.Temperature = 5.0"
   ]
  },
  {
   "cell_type": "code",
   "execution_count": 7,
   "id": "33932ecc",
   "metadata": {},
   "outputs": [],
   "source": [
    "# Settings for the geometry optimization with the ADF engine\n",
    "adf_sett = Settings()\n",
    "adf_sett.input.adf.Basis.Type = \"DZP\"\n",
    "adf_sett.input.adf.NumericalQuality = \"Basic\""
   ]
  },
  {
   "cell_type": "code",
   "execution_count": 8,
   "id": "3eb2b834",
   "metadata": {
    "lines_to_next_cell": 2
   },
   "outputs": [],
   "source": [
    "# Settings for the excitation calculation using the ADF engine\n",
    "adf_exci_sett = Settings()\n",
    "adf_exci_sett.input.adf.Basis.Type = \"TZP\"\n",
    "adf_exci_sett.input.adf.XC.GGA = \"PBE\"\n",
    "adf_exci_sett.input.adf.NumericalQuality = \"Basic\"\n",
    "adf_exci_sett.input.adf.Symmetry = \"NoSym\"\n",
    "adf_exci_sett.input.adf.Excitations.lowest = 10\n",
    "adf_exci_sett.input.adf.Excitations.OnlySing = \"\""
   ]
  },
  {
   "cell_type": "markdown",
   "id": "4dc547d5",
   "metadata": {},
   "source": [
    "## Load Molecules\n",
    "Import all xyz files in the folder 'molecules'."
   ]
  },
  {
   "cell_type": "code",
   "execution_count": 9,
   "id": "abc9ab9d",
   "metadata": {
    "lines_to_next_cell": 2
   },
   "outputs": [],
   "source": [
    "molecules = read_molecules(\"molecules\")"
   ]
  },
  {
   "cell_type": "markdown",
   "id": "7d2a078d",
   "metadata": {},
   "source": [
    "## DFTB Prescreen\n",
    "Perform an initial prescreen of all molecules with DFTB."
   ]
  },
  {
   "cell_type": "code",
   "execution_count": null,
   "id": "07ad9788",
   "metadata": {},
   "outputs": [],
   "source": [
    "promising_molecules = {}"
   ]
  },
  {
   "cell_type": "code",
   "execution_count": 10,
   "id": "efe03566",
   "metadata": {},
   "outputs": [
    {
     "name": "stdout",
     "output_type": "stream",
     "text": [
      "[13.08|15:32:02] JOB DFTB_H2O STARTED\n",
      "[13.08|15:32:02] JOB DFTB_H2O RUNNING\n",
      "[13.08|15:32:03] JOB DFTB_H2O FINISHED\n",
      "[13.08|15:32:03] JOB DFTB_H2O SUCCESSFUL\n",
      "[13.08|15:32:03] JOB DFTB_NH3 STARTED\n",
      "[13.08|15:32:03] JOB DFTB_NH3 RUNNING\n",
      "[13.08|15:32:11] WARNING: Job DFTB_NH3 finished with nonzero return code\n",
      "[13.08|15:32:11] JOB DFTB_NH3 CRASHED\n",
      "[13.08|15:32:11] JOB DFTB_S2Cl2 STARTED\n",
      "[13.08|15:32:11] JOB DFTB_S2Cl2 RUNNING\n",
      "[13.08|15:32:12] JOB DFTB_S2Cl2 FINISHED\n",
      "[13.08|15:32:12] JOB DFTB_S2Cl2 SUCCESSFUL\n"
     ]
    },
    {
     "ename": "NameError",
     "evalue": "name 'promising_molecules' is not defined",
     "output_type": "error",
     "traceback": [
      "\u001b[0;31m---------------------------------------------------------------------------\u001b[0m",
      "\u001b[0;31mNameError\u001b[0m                                 Traceback (most recent call last)",
      "Cell \u001b[0;32mIn [10], line 6\u001b[0m\n\u001b[1;32m      3\u001b[0m dftb_job\u001b[38;5;241m.\u001b[39mrun()\n\u001b[1;32m      5\u001b[0m \u001b[38;5;28;01mif\u001b[39;00m dftb_job\u001b[38;5;241m.\u001b[39mresults\u001b[38;5;241m.\u001b[39mhas_good_excitations(\u001b[38;5;241m1\u001b[39m, \u001b[38;5;241m6\u001b[39m):\n\u001b[0;32m----> 6\u001b[0m     \u001b[43mpromising_molecules\u001b[49m[name] \u001b[38;5;241m=\u001b[39m dftb_job\u001b[38;5;241m.\u001b[39mresults\u001b[38;5;241m.\u001b[39mget_main_molecule()\n",
      "\u001b[0;31mNameError\u001b[0m: name 'promising_molecules' is not defined"
     ]
    }
   ],
   "source": [
    "for name, mol in molecules.items():\n",
    "    dftb_job = AMSJob(name=\"DFTB_\" + name, molecule=mol, settings=go_sett + dftb_sett)\n",
    "    dftb_job.run()\n",
    "\n",
    "    if dftb_job.results.has_good_excitations(1, 6):\n",
    "        promising_molecules[name] = dftb_job.results.get_main_molecule()"
   ]
  },
  {
   "cell_type": "code",
   "execution_count": null,
   "id": "9b7877ce",
   "metadata": {
    "lines_to_next_cell": 2
   },
   "outputs": [],
   "source": [
    "print(f\"Found {len(promising_molecules)} promising molecules with DFTB\")"
   ]
  },
  {
   "cell_type": "markdown",
   "id": "59c0fe21",
   "metadata": {},
   "source": [
    "## Optimization and excitations calculation with ADF\n",
    "For each of the molecules identified in the prescreen, run a further calculation with ADF."
   ]
  },
  {
   "cell_type": "code",
   "execution_count": null,
   "id": "c0e9a4be",
   "metadata": {},
   "outputs": [],
   "source": [
    "for name, mol in promising_molecules.items():\n",
    "    adf_go_job = AMSJob(name=\"ADF_GO_\" + name, molecule=mol, settings=go_sett + adf_sett)\n",
    "    adf_go_job.run()\n",
    "\n",
    "    optimized_mol = adf_go_job.results.get_main_molecule()\n",
    "\n",
    "    adf_exci_job = AMSJob(name=\"ADF_exci_\" + name, molecule=optimized_mol, settings=sp_sett + adf_exci_sett)\n",
    "    adf_exci_job.run()\n",
    "\n",
    "    if adf_exci_job.results.has_good_excitations(2, 4):\n",
    "        print(f\"Molecule {name} has excitation(s) satysfying our criteria!\")\n",
    "        print(optimized_mol)\n",
    "        exci_energies, oscillator_str = adf_exci_job.results.get_excitations()\n",
    "        print(\"Excitation energy [eV], oscillator strength:\")\n",
    "        for e, o in zip(exci_energies, oscillator_str):\n",
    "            print(f\"{e:8.4f}, {o:8.4f}\")"
   ]
  }
 ],
 "metadata": {
  "jupytext": {
   "cell_metadata_filter": "-all",
   "executable": "/usr/bin/env amspython",
   "main_language": "python",
   "notebook_metadata_filter": "-all"
  },
  "kernelspec": {
   "display_name": "Python 3 (ipykernel)",
   "language": "python",
   "name": "python3"
  },
  "language_info": {
   "codemirror_mode": {
    "name": "ipython",
    "version": 3
   },
   "file_extension": ".py",
   "mimetype": "text/x-python",
   "name": "python",
   "nbconvert_exporter": "python",
   "pygments_lexer": "ipython3",
   "version": "3.8.16"
  }
 },
 "nbformat": 4,
 "nbformat_minor": 5
}
