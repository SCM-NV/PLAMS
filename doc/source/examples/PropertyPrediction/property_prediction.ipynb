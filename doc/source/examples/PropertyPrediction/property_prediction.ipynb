{
 "cells": [
  {
   "cell_type": "markdown",
   "id": "31139769-1daf-4765-803f-321d2eb342d5",
   "metadata": {},
   "source": [
    "## Initial imports"
   ]
  },
  {
   "cell_type": "code",
   "execution_count": 3,
   "id": "f31e99f3-bde3-41b7-abde-54f3b6a3e361",
   "metadata": {},
   "outputs": [],
   "source": [
    "import pyCRS\n",
    "import matplotlib.pyplot as plt\n",
    "from rdkit import Chem\n",
    "from rdkit.Chem.Draw import IPythonConsole\n",
    "IPythonConsole.ipython_useSVG = True\n",
    "IPythonConsole.molSize = 150, 150"
   ]
  },
  {
   "cell_type": "markdown",
   "id": "4cde646d-77e3-498f-ae62-e280172f2525",
   "metadata": {},
   "source": [
    "## Property prediction from SMILES (ethyl acetate)"
   ]
  },
  {
   "cell_type": "code",
   "execution_count": 4,
   "id": "a30a9c33-ce52-44cf-a113-214ac16cc8b9",
   "metadata": {},
   "outputs": [
    {
     "data": {
      "image/png": "[encoded data removed]",
      "image/svg+xml": [
       "<?xml version='1.0' encoding='iso-8859-1'?>\n",
       "<svg version='1.1' baseProfile='full'\n",
       "              xmlns:svg='http://www.w3.org/2000/svg'\n",
       "                      xmlns:rdkit='http://www.rdkit.org/xml'\n",
       "                      xmlns:xlink='http://www.w3.org/1999/xlink'\n",
       "                  xml:space='preserve'\n",
       "width='150px' height='150px' >\n",
       "<rect style='opacity:1.0;fill:#FFFFFF;stroke:none' width='150' height='150' x='0' y='0'> </rect>\n",
       "<path d='M 112.662,49.0993 110.317,65.4678' style='fill:none;fill-rule:evenodd;stroke:#FF0000;stroke-width:2px;stroke-linecap:butt;stroke-linejoin:miter;stroke-opacity:1' />\n",
       "<path d='M 110.317,65.4678 107.973,81.8363' style='fill:none;fill-rule:evenodd;stroke:#000000;stroke-width:2px;stroke-linecap:butt;stroke-linejoin:miter;stroke-opacity:1' />\n",
       "<path d='M 120.535,50.2268 118.19,66.5953' style='fill:none;fill-rule:evenodd;stroke:#FF0000;stroke-width:2px;stroke-linecap:butt;stroke-linejoin:miter;stroke-opacity:1' />\n",
       "<path d='M 118.19,66.5953 115.846,82.9638' style='fill:none;fill-rule:evenodd;stroke:#000000;stroke-width:2px;stroke-linecap:butt;stroke-linejoin:miter;stroke-opacity:1' />\n",
       "<path d='M 111.91,82.4001 96.5499,88.5591' style='fill:none;fill-rule:evenodd;stroke:#000000;stroke-width:2px;stroke-linecap:butt;stroke-linejoin:miter;stroke-opacity:1' />\n",
       "<path d='M 96.5499,88.5591 81.1901,94.7181' style='fill:none;fill-rule:evenodd;stroke:#FF0000;stroke-width:2px;stroke-linecap:butt;stroke-linejoin:miter;stroke-opacity:1' />\n",
       "<path d='M 111.91,82.4001 143.182,106.965' style='fill:none;fill-rule:evenodd;stroke:#000000;stroke-width:2px;stroke-linecap:butt;stroke-linejoin:miter;stroke-opacity:1' />\n",
       "<path d='M 68.8099,92.3378 56.2689,82.4866' style='fill:none;fill-rule:evenodd;stroke:#FF0000;stroke-width:2px;stroke-linecap:butt;stroke-linejoin:miter;stroke-opacity:1' />\n",
       "<path d='M 56.2689,82.4866 43.7279,72.6355' style='fill:none;fill-rule:evenodd;stroke:#000000;stroke-width:2px;stroke-linecap:butt;stroke-linejoin:miter;stroke-opacity:1' />\n",
       "<path d='M 43.7279,72.6355 6.81818,87.4356' style='fill:none;fill-rule:evenodd;stroke:#000000;stroke-width:2px;stroke-linecap:butt;stroke-linejoin:miter;stroke-opacity:1' />\n",
       "<text x='111.357' y='49.663' style='font-size:13px;font-style:normal;font-weight:normal;fill-opacity:1;stroke:none;font-family:sans-serif;text-anchor:start;fill:#FF0000' ><tspan>O</tspan></text>\n",
       "<text x='68.8099' y='103.828' style='font-size:13px;font-style:normal;font-weight:normal;fill-opacity:1;stroke:none;font-family:sans-serif;text-anchor:start;fill:#FF0000' ><tspan>O</tspan></text>\n",
       "</svg>\n"
      ],
      "text/plain": [
       "<rdkit.Chem.rdchem.Mol at 0x7f3769982460>"
      ]
     },
     "execution_count": 4,
     "metadata": {},
     "output_type": "execute_result"
    }
   ],
   "source": [
    "#smiles = 'CCO' # ethanol\n",
    "smiles = 'O=C(OCC)C' # ethyl acetate\n",
    "rdkit_mol = Chem.MolFromSmiles(smiles)\n",
    "rdkit_mol   # show the molecule in a Jupyter notebook"
   ]
  },
  {
   "cell_type": "markdown",
   "id": "5e2885e9-b22c-43db-93ff-909be9138bb8",
   "metadata": {},
   "source": [
    "### Temperature-independent properties"
   ]
  },
  {
   "cell_type": "code",
   "execution_count": 3,
   "id": "c26688f6-8254-4e7f-b7cb-4660d76be837",
   "metadata": {},
   "outputs": [
    {
     "name": "stdout",
     "output_type": "stream",
     "text": [
      "SMILES: O=C(OCC)C\n",
      "\n",
      "boilingpoint        : 339.131 K\n",
      "criticalpressure    : 38.243 bar\n",
      "criticaltemp        : 544.189 K\n",
      "criticalvol         : 0.271 L/mol\n",
      "dielectricconstant  : 6.834 \n",
      "entropygas          : 382.780 J/(mol K)\n",
      "flashpoint          : 265.005 K\n",
      "gidealgas           : -323.540 kJ/mol\n",
      "hcombust            : -2075.882 kJ/mol\n",
      "hformstd            : -462.595 kJ/mol\n",
      "hfusion             : 11.717 kJ/mol\n",
      "hidealgas           : -437.815 kJ/mol\n",
      "hsublimation        : 55.394 kJ/mol\n",
      "meltingpoint        : 179.420 K\n",
      "molarvol            : 0.098 L/mol\n",
      "parachor            : 215.764 \n",
      "solubilityparam     : 9.069 √(cal/cm^3)\n",
      "synacc              : 1.756 \n",
      "tpt                 : 178.434 K\n",
      "vdwarea             : 129.168 Å²\n",
      "vdwvol              : 89.171 Å³\n"
     ]
    }
   ],
   "source": [
    "print(f\"SMILES: {smiles}\\n\")\n",
    "mol = pyCRS.Input.read_smiles(smiles)\n",
    "\n",
    "temperatures = [298.15, 308.15, 318.15, 328.15, 338.15]\n",
    "pyCRS.PropPred.estimate(mol, temperatures=temperatures) \n",
    "\n",
    "for prop, value in mol.properties.items():\n",
    "    unit = pyCRS.PropPred.units[prop]\n",
    "    print(f'{prop:<20s}: {value:.3f} {unit}')"
   ]
  },
  {
   "cell_type": "markdown",
   "id": "42fe82f4-3c76-45b9-99a9-9992462587fd",
   "metadata": {},
   "source": [
    "### Temperature-dependent properties (vapor pressure)"
   ]
  },
  {
   "cell_type": "code",
   "execution_count": 4,
   "id": "52cd71c8-a973-4a2a-9022-45b85f01ddf5",
   "metadata": {},
   "outputs": [
    {
     "data": {
      "image/png": "[encoded data removed]",
      "text/plain": [
       "<Figure size 300x300 with 1 Axes>"
      ]
     },
     "metadata": {},
     "output_type": "display_data"
    }
   ],
   "source": [
    "prop = 'vaporpressure'\n",
    "temperatures_K, vaporpressures = zip(*mol.properties_tdep[prop])\n",
    "temperatures_C = [t - 273.15 for t in temperatures_K]  # convert to Celsius\n",
    "\n",
    "plt.figure(figsize=(3,3))\n",
    "plt.plot(temperatures_C, vaporpressures)\n",
    "plt.plot(temperatures_C, vaporpressures, '.')\n",
    "plt.xlabel(\"Temperature (degree Celsius)\")\n",
    "plt.title(f'SMILES: {smiles}')\n",
    "plt.ylabel(f\"{prop} [{unit}]\");"
   ]
  },
  {
   "cell_type": "markdown",
   "id": "54618cc8-2fc0-4481-b733-edee5fe2172f",
   "metadata": {},
   "source": [
    "## Create .csv for multiple compounds\n",
    "\n",
    "Define a list of compounds by their SMILES strings. This example also shows how to only calculate a subset of all properties.\n",
    "\n",
    "Note: The SMILES string 'C' corresponds to methane which is too small to be used with the property prediction tool, so the results are given as 'nan' (not a number)."
   ]
  },
  {
   "cell_type": "code",
   "execution_count": 5,
   "id": "0b85d972-3604-4510-8d3b-ad772c9b40ec",
   "metadata": {},
   "outputs": [],
   "source": [
    "smiles_list = [\n",
    "    'CCO', \n",
    "    'CCOC', \n",
    "    'OCCCN', \n",
    "    'C', # methane is too small to be used with property prediction and will return \"nan\"\n",
    "    'C1=CC=C(C=C1)COCC2=CC=CC=C2'\n",
    "]\n",
    "temperatures = list(range(280,340,10))\n",
    "\n",
    "mols = [pyCRS.Input.read_smiles(s) for s in smiles_list]\n",
    "\n",
    "properties = [\"boilingpoint\", \"criticaltemp\", \"hformstd\"]\n",
    "\n",
    "for mol in mols:\n",
    "    pyCRS.PropPred.estimate(mol, properties, temperatures=temperatures) "
   ]
  },
  {
   "cell_type": "code",
   "execution_count": 6,
   "id": "ac4fb39a-ed79-4b7b-942a-1f0063cff42e",
   "metadata": {},
   "outputs": [],
   "source": [
    "def get_csv(mols, properties):\n",
    "    header = \"SMILES\"\n",
    "    for prop in properties:\n",
    "        unit = pyCRS.PropPred.units[prop]\n",
    "        if unit:\n",
    "            unit = f' [{unit}]'\n",
    "        else:\n",
    "            unit = ''\n",
    "            \n",
    "        header += f',{prop}{unit}'\n",
    "    ret = header + '\\n'\n",
    "    \n",
    "    for mol in mols:\n",
    "        s = f'{mol.smiles}'\n",
    "        for prop in properties:\n",
    "            value = mol.properties.get(prop, '')\n",
    "            try:\n",
    "                s += f',{value:.4f}'\n",
    "            except TypeError:\n",
    "                s += f',{value}'\n",
    "        s += '\\n'\n",
    "        ret += s\n",
    "    return ret"
   ]
  },
  {
   "cell_type": "code",
   "execution_count": 7,
   "id": "be9db892-4183-4006-a388-e312b095bfe6",
   "metadata": {},
   "outputs": [
    {
     "name": "stdout",
     "output_type": "stream",
     "text": [
      "SMILES,boilingpoint [K],criticaltemp [K],hformstd [kJ/mol]\n",
      "CCO,337.6259,442.0008,-271.9478\n",
      "CCOC,296.4144,425.7282,-213.6494\n",
      "OCCCN,432.7489,541.4748,-290.7921\n",
      "C,nan,nan,nan\n",
      "C1=CC=C(C=C1)COCC2=CC=CC=C2,558.7903,661.7012,-167.0454\n",
      "\n"
     ]
    }
   ],
   "source": [
    "csv = get_csv(mols, properties)\n",
    "print(csv)\n",
    "\n",
    "# To write to a .csv file:\n",
    "#with open('outputfile.csv', 'w') as f: \n",
    "#    f.write(csv)"
   ]
  },
  {
   "cell_type": "markdown",
   "id": "8abe2182-f759-494d-a6c0-3a705e525af8",
   "metadata": {},
   "source": [
    "### Bar chart for multiple compounds\n",
    "\n",
    "Continuing from the previous example, you can also create e.g. a bar chart with the boiling points:"
   ]
  },
  {
   "cell_type": "code",
   "execution_count": 8,
   "id": "0372299c-0074-456f-95ec-0ccff98bee7d",
   "metadata": {},
   "outputs": [
    {
     "data": {
      "image/png": "[encoded data removed]",
      "text/plain": [
       "<Figure size 640x480 with 1 Axes>"
      ]
     },
     "metadata": {},
     "output_type": "display_data"
    }
   ],
   "source": [
    "prop = 'boilingpoint'\n",
    "values = [mol.properties.get(prop, None) for mol in mols]\n",
    "plt.barh(smiles_list, values)\n",
    "plt.title('Boiling point [K]');"
   ]
  }
 ],
 "metadata": {
  "kernelspec": {
   "display_name": "Python 3",
   "language": "python",
   "name": "python3"
  },
  "language_info": {
   "codemirror_mode": {
    "name": "ipython",
    "version": 3
   },
   "file_extension": ".py",
   "mimetype": "text/x-python",
   "name": "python",
   "nbconvert_exporter": "python",
   "pygments_lexer": "ipython3",
   "version": "3.8.12"
  }
 },
 "nbformat": 4,
 "nbformat_minor": 5
}
